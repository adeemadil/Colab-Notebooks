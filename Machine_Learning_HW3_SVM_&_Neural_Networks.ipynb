{
  "nbformat": 4,
  "nbformat_minor": 0,
  "metadata": {
    "accelerator": "GPU",
    "colab": {
      "name": "Machine Learning HW3 - SVM & Neural Networks",
      "provenance": [],
      "collapsed_sections": [
        "WwHsvsWm1av9"
      ],
      "toc_visible": true,
      "include_colab_link": true
    },
    "kernelspec": {
      "display_name": "Python 3",
      "name": "python3"
    }
  },
  "cells": [
    {
      "cell_type": "markdown",
      "metadata": {
        "id": "view-in-github",
        "colab_type": "text"
      },
      "source": [
        "<a href=\"https://colab.research.google.com/github/adeemadil/Colab-Notebooks/blob/main/Machine_Learning_HW3_SVM_%26_Neural_Networks.ipynb\" target=\"_parent\"><img src=\"https://colab.research.google.com/assets/colab-badge.svg\" alt=\"Open In Colab\"/></a>"
      ]
    },
    {
      "cell_type": "markdown",
      "metadata": {
        "id": "KDSS2c_hXISc"
      },
      "source": [
        "<b><h1><center>CS 464</center></h1></b>\n",
        "<b><h1><center>Introduction to Machine Learning</center></h1></b>\n",
        "<b><h1><center>Spring 2021</center></h1></b>\n",
        "<b><h1><center>Homework 3</center></h1></b>\n",
        "<h4><center>Due: <b>10 May</b> (GMT+3)</center></h4>"
      ]
    },
    {
      "cell_type": "markdown",
      "metadata": {
        "id": "W5qurNR3XkKT"
      },
      "source": [
        "### Instructions\n",
        "\n",
        "<ul>\n",
        "    <li>\n",
        "    This homework contains both written and programming questions about neural networks and SVM. </li>\n",
        "    <li>\n",
        "    You are not required to provide answers for <b>Question 1</b> on this notebook. You may use any programming language you like. In either case, you are required to prepare a report for Question 1, named <b>Q1_report.pdf</b>, which contains your results, plots and discussion for Question 1 only.\n",
        "    </li>\n",
        "    <li>\n",
        "    You should implement <b>Question 2</b> on this notebook. Your plots should also be produced in this notebook. Each programming question has its own cell for your answer. You can implement your code directly in these cells, or you can call required functions which are defined in a different location for the given question.\n",
        "    </li>\n",
        "    <li>\n",
        "    For questions that you need to plot, your plot results have to be included in the cell output. For written questions, you may provide them either as comments in code cells or as seperate text cells. \n",
        "    </li>\n",
        "    <li>\n",
        "    For question 1, you are <b>ALLOWED</b> to use machine learning libraries for training SVM models.\n",
        "    </li>\n",
        "    <li>\n",
        "    For questions 2, you are <b>NOT ALLOWED</b> to use different libraries than given libraries in the code segments of this homework except for libraries included in Python Standard Library (https://docs.python.org/3/library/).\n",
        "    </li>\n",
        "    <li>\n",
        "    You are <b>NOT ALLOWED</b> to use a different deep learning framework than PyTorch.\n",
        "    </li>\n",
        "    <li>\n",
        "    <b>IMPORTANT:</b> If you are asked to discuss your results add a new text cell right after you provide your results. On the other hand, if you are asked to provide a written answer for a question add a text cell under the description of the corresponding question. \n",
        "    </li>\n",
        "    <li>\n",
        "    While submitting the homework file, please package notebook(\".ipynb\") and model (\".pth\") files as a gzipped TAR file or a ZIP file with the name cs464_hw3_section#_Firstname_Lastname. Please do not use any Turkish letters for any of your files including code files and model files. Upload your homework to Moodle.\n",
        "    </li>\n",
        "    <li>\n",
        "    This is an individual assignment for each student. That is, you are <b>NOT ALLOWED</b> to share your work with your classmates.</li>\n",
        "    <li> \n",
        "    If you do not follow the submission routes, deadlines and specifications, it will lead to a significant grade deduction.\n",
        "    </li>\n",
        "    <li> \n",
        "    If you have any questions regarding <b>question 1</b> you may send an email to <b>salman.mohammad@bilkent.edu.tr</b>.\n",
        "    </li>\n",
        "    <li> \n",
        "    If you have any questions regarding <b>question 2</b> you may send an email to <b>doruk.cakmakci@bilkent.edu.tr</b>.\n",
        "    </li>\n",
        "</ul>"
      ]
    },
    {
      "cell_type": "markdown",
      "metadata": {
        "id": "9d7BOVodYiGe"
      },
      "source": [
        "## Environment Setup"
      ]
    },
    {
      "cell_type": "markdown",
      "metadata": {
        "id": "EPlCx2GsYnHS"
      },
      "source": [
        "This homework is prepared by using Google Colab which already has access to required libraries. However, if you are using your own local Jupyter or any other Python notebook editor, you may use both anaconda or pip to install PyTorch to your own computer."
      ]
    },
    {
      "cell_type": "markdown",
      "metadata": {
        "id": "LM4dpplWZBGS"
      },
      "source": [
        "### Anaconda Installation\n",
        "\n",
        "<ul>\n",
        "    <li>Download anaconda from https://www.anaconda.com/download</li>\n",
        "    <li>Follow the instructions provided in https://conda.io/docs/user-guide/install/index.html#regular-installation</li>\n",
        "</ul>\n",
        "\n",
        "#### Creation of Virtual Environment\n",
        "\n",
        "<ul>\n",
        "    <li>Create python3.7 virtual environment for your hw3 using follow command from the command line<br>\n",
        "        <i>> conda create -n HW3 python=3.7 anaconda</i></li>\n",
        "    <li>Activate your virtual environment<br>\n",
        "        <i>> source activate HW3</i></li>\n",
        "    <li>To install auxiliary libraries, replace the \"package_name\" in the following command and run it in activated \"hw3\" environment <br>\n",
        "        <i>> pip install \"package_name\"<i></li>\n",
        "     <li>When you create your virtual environment with \"anaconda\" metapackage, jupyter notebook should be installed. Try:<br>\n",
        "         <i>> jupyter notebook</i>\n",
        "</ul>\n",
        "\n",
        "\n",
        "#### PyTorch Installation with Anaconda\n",
        "\n",
        "You should install PyTorch to your virtual environment which is created for the hw3. Therefore, you should activate your homework virtual environment before to start PyTorch installation.\n",
        "<li>> source activate HW3</li>\n",
        "\n",
        "After you have activated the virtual environment, then use one of the following commands to install pytorch for CPU for your system. See https://pytorch.org/ for help.\n",
        "<ul>\n",
        "<li>For MacOS:<br>\n",
        "    <i>> conda install pytorch torchvision -c pytorch</i>\n",
        "</li>\n",
        "<li>For Linux:<br>\n",
        "    <i>> conda install pytorch-cpu torchvision-cpu -c pytorch</i>\n",
        "</li>\n",
        "<li>For Windows:<br>\n",
        "    <i>> conda install pytorch-cpu torchvision-cpu -c pytorch</i><br>\n",
        "</li>"
      ]
    },
    {
      "cell_type": "markdown",
      "metadata": {
        "id": "AVlcWIXEZZGO"
      },
      "source": [
        "###Pip3 Installation\n",
        "<ul>\n",
        "    <li>Download pip3 from https://pip.pypa.io/en/stable/installing/</li>\n",
        "    <li>If you are using Windows, you may need to add Python to your enviroment variables. You may use the following tutorial to install Python and pip.\n",
        "    https://phoenixnap.com/kb/how-to-install-python-3-windows</li>\n",
        "</ul>\n",
        "\n",
        "#### PyTorch Installation with Pip\n",
        "<ul>\n",
        "<li>For MacOS:<br>\n",
        "    <i>> pip3 install torch torchvision</i>\n",
        "</li>\n",
        "<li>For Linux:<br>\n",
        "    <i>> pip3 install torch==1.3.1+cpu torchvision==0.4.2+cpu -f https://download.pytorch.org/whl/torch_stable.html</i>\n",
        "</li>\n",
        "<li>For Windows:<br>\n",
        "    <i>> pip3 install torch==1.3.1+cpu torchvision==0.4.2+cpu -f https://download.pytorch.org/whl/torch_stable.html</i><br>\n",
        "</li>\n"
      ]
    },
    {
      "cell_type": "markdown",
      "metadata": {
        "id": "I0CsUtpmZmBk"
      },
      "source": [
        "# Question 1 [30 pts.]\n",
        "\n",
        "\n",
        "\n"
      ]
    },
    {
      "cell_type": "markdown",
      "metadata": {
        "id": "UiQo8t-fqMHc"
      },
      "source": [
        "Please refer to Q1.pdf for the question."
      ]
    },
    {
      "cell_type": "code",
      "metadata": {
        "id": "w_QZIKtyzJaG"
      },
      "source": [
        "import os\n",
        "import csv\n",
        "import math\n",
        "import random\n",
        "import operator\n",
        "import pdb\n",
        "\n",
        "import numpy as np\n",
        "import matplotlib\n",
        "import matplotlib.pyplot as plt\n",
        "import matplotlib.image as mpimg\n",
        "import pandas as pd"
      ],
      "execution_count": null,
      "outputs": []
    },
    {
      "cell_type": "code",
      "metadata": {
        "id": "IhaigbC2-R7d"
      },
      "source": [
        "from sklearn.svm import SVC, LinearSVC\n",
        "from sklearn.metrics import classification_report, confusion_matrix, accuracy_score, ConfusionMatrixDisplay"
      ],
      "execution_count": null,
      "outputs": []
    },
    {
      "cell_type": "code",
      "metadata": {
        "id": "6g7s8ZXyD-V3"
      },
      "source": [
        "import sklearn.preprocessing"
      ],
      "execution_count": null,
      "outputs": []
    },
    {
      "cell_type": "code",
      "metadata": {
        "colab": {
          "base_uri": "https://localhost:8080/"
        },
        "id": "BqA6cTzZz1_l",
        "outputId": "f17fdc7e-6463-428a-d9bc-fbc230c73555"
      },
      "source": [
        "# Mount Google Drive\n",
        "from google.colab import drive\n",
        "drive.mount('/content/drive')\n",
        "\n",
        "!ls /content/drive/MyDrive/ML_HW3"
      ],
      "execution_count": null,
      "outputs": [
        {
          "output_type": "stream",
          "text": [
            "Mounted at /content/drive\n",
            "breast_cancer.csv  q2_dataset\n"
          ],
          "name": "stdout"
        }
      ]
    },
    {
      "cell_type": "code",
      "metadata": {
        "id": "T7taXekn0yUQ"
      },
      "source": [
        "root = '/content/drive/MyDrive/ML_HW3'\n",
        "q1_dataset_path = os.path.join(root, 'breast_cancer.csv')\n",
        "breastcancer_data = pd.read_csv(q1_dataset_path)"
      ],
      "execution_count": null,
      "outputs": []
    },
    {
      "cell_type": "markdown",
      "metadata": {
        "id": "WwHsvsWm1av9"
      },
      "source": [
        "## **1.1 SVM model with soft margin without using any kernels.**"
      ]
    },
    {
      "cell_type": "code",
      "metadata": {
        "id": "X9idq7COBVjk"
      },
      "source": [
        "def k_folds_i(dataset, i, k):\n",
        "  n = len(dataset)\n",
        "  return len(dataset[n*(i-1)//k:n*i//k])"
      ],
      "execution_count": null,
      "outputs": []
    },
    {
      "cell_type": "code",
      "metadata": {
        "id": "Ysl2ajM8N6ww"
      },
      "source": [
        "def find_listOf_meanAvg(data_train = breastcancer_data[0:500], param_C = 1.0):\n",
        "  #Constants\n",
        "  K_FOLD = 10\n",
        "\n",
        "  #Creating 10 folds\n",
        "  count = 1\n",
        "  s=0\n",
        "  acc_total = 0\n",
        "\n",
        "  while count!= K_FOLD + 1:\n",
        "    #print(\"Fold \",count)\n",
        "    folds = k_folds_i(data_train,count,10)\n",
        "    d_fold = data_train[s:s + folds]\n",
        "    \n",
        "    d_test = d_fold\n",
        "    X_test = d_test.iloc[:,0:8]\n",
        "    y_test = d_test.iloc[:,8:10]\n",
        "    d_train = data_train.drop(data_train.index[s:s+folds])\n",
        "    X_train = d_train.iloc[:,0:8]\n",
        "    y_train = d_train.iloc[:,8:10]\n",
        "    \n",
        "    X_train = X_train.to_numpy()\n",
        "    X_train = sklearn.preprocessing.scale(X_train)\n",
        "\n",
        "    y_train = y_train.to_numpy()\n",
        "\n",
        "    X_test = X_test.to_numpy()\n",
        "    X_test = sklearn.preprocessing.scale(X_test)\n",
        "\n",
        "    y_test = y_test.to_numpy()\n",
        "\n",
        "    y_train = np.array(y_train)\n",
        "\n",
        "    svclassifier = SVC(C= param_C, kernel='linear')\n",
        "    svclassifier.fit(X_train, y_train.ravel())\n",
        "    \n",
        "    y_pred = svclassifier.predict(X_test)\n",
        "    \n",
        "    accuracy = accuracy_score(y_test,y_pred)\n",
        "\n",
        "    acc_total += accuracy\n",
        "    s += folds\n",
        "    count+=1\n",
        "\n",
        "  acc_total /= K_FOLD\n",
        "  return acc_total"
      ],
      "execution_count": null,
      "outputs": []
    },
    {
      "cell_type": "code",
      "metadata": {
        "id": "VnRnhyeOPiwM"
      },
      "source": [
        "def optimized_C(data_train, listC):\n",
        "  result = []\n",
        "  max = 0\n",
        "  for i in range(len(listC)):\n",
        "    result.append( find_listOf_meanAvg(data_train, listC[i]))\n",
        "  return result"
      ],
      "execution_count": null,
      "outputs": []
    },
    {
      "cell_type": "code",
      "metadata": {
        "id": "GZzsewJ3TFo7"
      },
      "source": [
        "data_train = breastcancer_data[0:500]\n",
        "data_test = breastcancer_data[500:]\n",
        "listC = [0.001, 0.01, 0.1, 1.0, 10.0, 100.0]\n",
        "meanAvgC = optimized_C( data_train, listC)"
      ],
      "execution_count": null,
      "outputs": []
    },
    {
      "cell_type": "markdown",
      "metadata": {
        "id": "QvoEsfyrXo9n"
      },
      "source": [
        "Visualize optimal Cost-parameter\n"
      ]
    },
    {
      "cell_type": "code",
      "metadata": {
        "colab": {
          "base_uri": "https://localhost:8080/",
          "height": 614
        },
        "id": "A49HjTpDX_VQ",
        "outputId": "d3559816-7848-460f-cc7b-741e946894d4"
      },
      "source": [
        "print(\"The optimum C value: \", listC[np.argmax(meanAvgC)],  \"with mean average accuracy: \", meanAvgC[np.argmax(meanAvgC)], \"%\")\n",
        "\n",
        "plt.plot(listC,meanAvgC, color='red', marker='o')\n",
        "for x,y in zip(listC,meanAvgC):\n",
        "\n",
        "    label = \"{:.2f}\".format(y)\n",
        "\n",
        "    plt.annotate(label, # this is the text\n",
        "                 (x,y), # this is the point to label\n",
        "                 textcoords=\"offset points\", # how to position the text\n",
        "                 xytext=(0,10), # distance from text to points (x,y)\n",
        "                 ha='center') # horizontal alignment can be left, right or center\n",
        "\n",
        "plt.title('Mean Cross Validation Accuracy Vs C - Line Chart', fontsize=14)\n",
        "plt.xlabel('hyper-parameter: C', fontsize=12)\n",
        "plt.ylabel('Mean Cross Validation Accuracy', fontsize=12)\n",
        "plt.show()\n",
        "plt.bar( ['10^-3', '10^-2', '10^-1', '10^0', '10^1', '10^2'], meanAvgC)\n",
        "plt.title('Mean Cross Validation Accuracy Vs C - Bar Chart', fontsize=14)\n",
        "plt.xlabel('hyper-parameter: C', fontsize=12)\n",
        "plt.ylabel('Mean Cross Validation Accuracy', fontsize=12)\n",
        "\n"
      ],
      "execution_count": null,
      "outputs": [
        {
          "output_type": "stream",
          "text": [
            "The optimum C value:  0.01 with mean average accuracy:  0.9399999999999998 %\n"
          ],
          "name": "stdout"
        },
        {
          "output_type": "display_data",
          "data": {
            "image/png": "[encoded data removed]",
            "text/plain": [
              "<Figure size 432x288 with 1 Axes>"
            ]
          },
          "metadata": {
            "tags": []
          }
        },
        {
          "output_type": "execute_result",
          "data": {
            "text/plain": [
              "Text(0, 0.5, 'Mean Cross Validation Accuracy')"
            ]
          },
          "metadata": {
            "tags": []
          },
          "execution_count": 16
        },
        {
          "output_type": "display_data",
          "data": {
            "image/png": "[encoded data removed]",
            "text/plain": [
              "<Figure size 432x288 with 1 Axes>"
            ]
          },
          "metadata": {
            "tags": []
          }
        }
      ]
    },
    {
      "cell_type": "markdown",
      "metadata": {
        "id": "vBlVZK9-S4bJ"
      },
      "source": [
        "Run SVM linear classifier model on test data after Parameter-Tuning (C is optimized)"
      ]
    },
    {
      "cell_type": "code",
      "metadata": {
        "id": "Qma28A4USimH"
      },
      "source": [
        "X_train = data_train.drop(labels='Class', axis=1)\n",
        "X_test = data_test.drop(labels='Class', axis=1)\n",
        "y_train = data_train['Class']\n",
        "y_test = data_test['Class']"
      ],
      "execution_count": null,
      "outputs": []
    },
    {
      "cell_type": "code",
      "metadata": {
        "colab": {
          "base_uri": "https://localhost:8080/",
          "height": 464
        },
        "id": "BlLjNOS8W44m",
        "outputId": "df78a5f0-889b-4cc0-f0c3-b0104e8c44d1"
      },
      "source": [
        "optimal_C = listC[np.argmax(meanAvgC)]\n",
        "svclassifier = SVC(C=optimal_C, kernel='linear')\n",
        "svclassifier.fit(X_train, y_train.ravel())\n",
        "y_pred = svclassifier.predict(X_test)\n",
        "cM = confusion_matrix(y_test,y_pred)\n",
        "print(classification_report(y_test,y_pred))\n",
        "disp = ConfusionMatrixDisplay(confusion_matrix=cM, display_labels=svclassifier.classes_)\n",
        "disp.plot() \n",
        "\n",
        "print( \"Accuracy: \", accuracy_score(y_test,y_pred))\n",
        "print( \"Confusion Matrix: \")"
      ],
      "execution_count": null,
      "outputs": [
        {
          "output_type": "stream",
          "text": [
            "              precision    recall  f1-score   support\n",
            "\n",
            "           0       1.00      0.99      0.99       155\n",
            "           1       0.96      1.00      0.98        44\n",
            "\n",
            "    accuracy                           0.99       199\n",
            "   macro avg       0.98      0.99      0.99       199\n",
            "weighted avg       0.99      0.99      0.99       199\n",
            "\n",
            "Accuracy:  0.9899497487437185\n",
            "Confusion Matrix: \n"
          ],
          "name": "stdout"
        },
        {
          "output_type": "display_data",
          "data": {
            "image/png": "[encoded data removed]",
            "text/plain": [
              "<Figure size 432x288 with 2 Axes>"
            ]
          },
          "metadata": {
            "tags": []
          }
        }
      ]
    },
    {
      "cell_type": "code",
      "metadata": {
        "colab": {
          "base_uri": "https://localhost:8080/"
        },
        "id": "BnSj_uReZg-U",
        "outputId": "6ccdb956-1ed8-45e1-8e6a-719b2823e220"
      },
      "source": [
        "cM = cM.ravel()\n",
        "tp, tn, fn, fp = cM[3], cM[0], cM[2], cM[1]\n",
        "print('TP: ', tp)\n",
        "print('TN: ', tn)\n",
        "print('FN: ', fn)\n",
        "print('FP: ', fp)\n",
        "\n",
        "precision = (tp/(tp + fp))\n",
        "recall = (tp/(tp+fn))\n",
        "FPR =(fp/(fp+tn))\n",
        "F1 = (precision*recall)/(precision + recall)\n",
        "F2 = (5*precision*recall)/(4*precision+recall)\n",
        "FDR = (fp/(fp+tp))\n",
        "NPV = (tn/(tn+fn))\n",
        "print('Precision =',precision)\n",
        "print('Recall =',recall)\n",
        "print('Negative Predictive Value =',NPV)\n",
        "print('False Positive Rate =',FPR)\n",
        "print('False Discovery Rate =',FDR)\n",
        "print('F1 =',F1)\n",
        "print('F2=',F2)"
      ],
      "execution_count": null,
      "outputs": [
        {
          "output_type": "stream",
          "text": [
            "TP:  44\n",
            "TN:  153\n",
            "FN:  0\n",
            "FP:  2\n",
            "Precision = 0.9565217391304348\n",
            "Recall = 1.0\n",
            "Negative Predictive Value = 1.0\n",
            "False Positive Rate = 0.012903225806451613\n",
            "False Discovery Rate = 0.043478260869565216\n",
            "F1 = 0.4888888888888889\n",
            "F2= 0.990990990990991\n"
          ],
          "name": "stdout"
        }
      ]
    },
    {
      "cell_type": "markdown",
      "metadata": {
        "id": "INkYHaHj1jzW"
      },
      "source": [
        "## **1.2 radial basis function (RBF) kernel to train hard margin SVM**"
      ]
    },
    {
      "cell_type": "code",
      "metadata": {
        "id": "3LFxUIk2ud3-"
      },
      "source": [
        "def find_listOf_meanAvg_RBF(data_train = breastcancer_data[0:500], param_C = 1.0, param_Gamma='scale'):\n",
        "  #Constants\n",
        "  K_FOLD = 10\n",
        "\n",
        "  #Creating 10 folds\n",
        "  count = 1\n",
        "  s=0\n",
        "  acc_total = 0\n",
        "\n",
        "  while count!= K_FOLD + 1:\n",
        "    #print(\"Fold \",count)\n",
        "    folds = k_folds_i(data_train,count,10)\n",
        "    d_fold = data_train[s:s + folds]\n",
        "    \n",
        "    d_test = d_fold\n",
        "    X_test = d_test.iloc[:,0:8]\n",
        "    y_test = d_test.iloc[:,8:10]\n",
        "    d_train = data_train.drop(data_train.index[s:s+folds])\n",
        "    X_train = d_train.iloc[:,0:8]\n",
        "    y_train = d_train.iloc[:,8:10]\n",
        "    \n",
        "    X_train = X_train.to_numpy()\n",
        "    X_train = sklearn.preprocessing.scale(X_train)\n",
        "\n",
        "    y_train = y_train.to_numpy()\n",
        "\n",
        "    X_test = X_test.to_numpy()\n",
        "    X_test = sklearn.preprocessing.scale(X_test)\n",
        "\n",
        "    y_test = y_test.to_numpy()\n",
        "\n",
        "    y_train = np.array(y_train)\n",
        "\n",
        "    svclassifier = SVC(C= param_C, kernel='rbf', gamma=param_Gamma)\n",
        "    svclassifier.fit(X_train, y_train.ravel())\n",
        "    \n",
        "    y_pred = svclassifier.predict(X_test)\n",
        "    #print(\"Confusion Matrix:\\n\" , confusion_matrix(y_test,y_pred))\n",
        "    #print(classification_report(y_test,y_pred))\n",
        "    \n",
        "    accuracy = accuracy_score(y_test,y_pred)\n",
        "\n",
        "    acc_total += accuracy\n",
        "    s += folds\n",
        "    count+=1\n",
        "\n",
        "  acc_total /= K_FOLD\n",
        "  return acc_total"
      ],
      "execution_count": null,
      "outputs": []
    },
    {
      "cell_type": "code",
      "metadata": {
        "id": "mcmqePGvyEAo"
      },
      "source": [
        "def optimized_C_RBF(data_train, listC, listGamma):\n",
        "  # result = []\n",
        "  # for i in range(len(listC)):\n",
        "  #   result.append( find_listOf_meanAvg(data_train, listC[i]))\n",
        "  # return np.argmax(result), result\n",
        "  result = []\n",
        "  for C in listC:\n",
        "    for gamma in listGamma:\n",
        "        result.append( find_listOf_meanAvg_RBF(data_train, C, gamma))\n",
        "  return result"
      ],
      "execution_count": null,
      "outputs": []
    },
    {
      "cell_type": "code",
      "metadata": {
        "colab": {
          "base_uri": "https://localhost:8080/"
        },
        "id": "W563PrxtyEBJ",
        "outputId": "42154ffb-d717-46fd-f5b4-29a213c410fb"
      },
      "source": [
        "data_train = breastcancer_data[0:500]\n",
        "data_test = breastcancer_data[500:]\n",
        "c_range = [10**x for x in range(-3,3)] #[10^-3, 10^-2, 10^-1, 10^0, 10^1, 10^2]\n",
        "gamma_range = [ 2**x for x in range(-4,2)] #[2^-4, 2^-3, 2^-2, 2^-1, 2^0, 2^1]\n",
        "meanAvg_C_Gamma = optimized_C_RBF( data_train, c_range, gamma_range)\n",
        "\n",
        "optimal_C_Gamma_Index = np.argmax(meanAvg_C_Gamma)\n",
        "optimal_score = meanAvg_C_Gamma[optimal_C_Gamma_Index]\n",
        "print( \"The optimal score is \", optimal_score)"
      ],
      "execution_count": null,
      "outputs": [
        {
          "output_type": "stream",
          "text": [
            "The optimal score is  0.9440000000000002\n"
          ],
          "name": "stdout"
        }
      ]
    },
    {
      "cell_type": "markdown",
      "metadata": {
        "id": "JoKe0LNBHVkm"
      },
      "source": [
        "As we know that the nested loop runs for *C1 then Gamma1, Gamma2.... Gamma6 then for C2 it starts again* {as per the above lists c_range and gamma_range}."
      ]
    },
    {
      "cell_type": "markdown",
      "metadata": {
        "id": "atGpnMrSH8Ik"
      },
      "source": [
        "#### Since index stars from zero in python and **optimal_score's index is 12**, it means that the 12th index would give the optimal values to be **C** = *10^-1*  and **Gamma** = *2^-4* ."
      ]
    },
    {
      "cell_type": "code",
      "metadata": {
        "id": "oeULr5rYJ5wo"
      },
      "source": [
        "optimal_C = 10**(-1)\n",
        "optimal_Gamma = 2**(-4)\n",
        "svclassifier = SVC(C=optimal_C, gamma=optimal_Gamma)\n",
        "svclassifier.fit(X_train, y_train.ravel())\n",
        "y_pred = svclassifier.predict(X_test)\n",
        "cM2 = confusion_matrix(y_test,y_pred)\n",
        "print(classification_report(y_test,y_pred))\n",
        "disp = ConfusionMatrixDisplay(confusion_matrix=cM2, display_labels=svclassifier.classes_)\n",
        "disp.plot() \n",
        "\n",
        "print( \"Accuracy: \", accuracy_score(y_test,y_pred))\n",
        "print( \"Confusion Matrix: \")"
      ],
      "execution_count": null,
      "outputs": []
    },
    {
      "cell_type": "code",
      "metadata": {
        "colab": {
          "base_uri": "https://localhost:8080/"
        },
        "id": "BRGHpXmCJ4ZX",
        "outputId": "d1b5e038-a016-4529-cfea-2542a43edb07"
      },
      "source": [
        "cM2 = cM2.ravel()\n",
        "tp, tn, fn, fp = cM2[3], cM2[0], cM2[2], cM2[1]\n",
        "print('TP: ', tp)\n",
        "print('TN: ', tn)\n",
        "print('FN: ', fn)\n",
        "print('FP: ', fp)\n",
        "\n",
        "precision = (tp/(tp + fp))\n",
        "recall = (tp/(tp+fn))\n",
        "FPR =(fp/(fp+tn))\n",
        "F1 = (precision*recall)/(precision + recall)\n",
        "F2 = (5*precision*recall)/(4*precision+recall)\n",
        "FDR = (fp/(fp+tp))\n",
        "NPV = (tn/(tn+fn))\n",
        "print('Precision =',precision)\n",
        "print('Recall =',recall)\n",
        "print('Negative Predictive Value =',NPV)\n",
        "print('False Positive Rate =',FPR)\n",
        "print('False Discovery Rate =',FDR)\n",
        "print('F1 =',F1)\n",
        "print('F2=',F2)"
      ],
      "execution_count": null,
      "outputs": [
        {
          "output_type": "stream",
          "text": [
            "TP:  44\n",
            "TN:  150\n",
            "FN:  0\n",
            "FP:  5\n",
            "Precision = 0.8979591836734694\n",
            "Recall = 1.0\n",
            "Negative Predictive Value = 1.0\n",
            "False Positive Rate = 0.03225806451612903\n",
            "False Discovery Rate = 0.10204081632653061\n",
            "F1 = 0.47311827956989244\n",
            "F2= 0.9777777777777776\n"
          ],
          "name": "stdout"
        }
      ]
    },
    {
      "cell_type": "markdown",
      "metadata": {
        "id": "fnAVhRr4eTPo"
      },
      "source": [
        "# Question 2 [70 pts.]"
      ]
    },
    {
      "cell_type": "markdown",
      "metadata": {
        "id": "GnaXgIskP6iY"
      },
      "source": [
        "Computer vision (CV) is the field of study which deals with how computers can gain high-level understanding from digital images or videos. For this question you will develop neural network models to classify images. You are encouraged to use GPU for model training. Here you will use a subset of Fashion-MNIST dataset for evaluating your networks. \n",
        "\n",
        "Fashion-MNIST dataset is composed of: (i) a training set of 60,000 images; and (ii) a test set of 10,000 images. These images are grayscale and have a size of 28x28. Each image belongs to one of the following categories: T-shirt/Top (Class 0), Trouser (Class 1), Pullover (Class 2), Dress (Class 3), Coat (Class 4), Sandal (Class 5), Shirt (Class 6), Sneaker (Class 7), Bag (Class 8) and Ankle boot (Class 9). For this question you will use half of the images in the official training set for training and validating your models, which we will refer to as the development dataset. Furthermore, you will evaluate your trained models on the test dataset. Both development and test datasets are provided to you as a pickled Python dictionary in _q2_dataset_. Keys of the dictionary are the following:\n",
        "*   *development_x*: 30,000 images for training and validating models.\n",
        "*   *development_y*: Class labels for the images in development set.\n",
        "*   *test_x*: 10,000 images for testing the models.\n",
        "*   *test_y*: Class labels for the images in the test set.\n",
        "*   *label2name*: a list whose elements are class names (e.g. Class 0 corresponds to the first element and contains \"T-shirt\").\n",
        "\n",
        "Libraries that are required in this question is given in the following code cell."
      ]
    },
    {
      "cell_type": "code",
      "metadata": {
        "colab": {
          "base_uri": "https://localhost:8080/"
        },
        "id": "Z37KSYkSXHtz",
        "outputId": "73bab75f-4f3b-4138-f4ba-66492b44fe87"
      },
      "source": [
        "# Mount Google Drive\n",
        "from google.colab import drive\n",
        "drive.mount('/content/drive')\n",
        "\n",
        "!ls /content/drive/MyDrive/ML_HW3\n",
        "\n",
        "import pdb\n",
        "import pickle\n",
        "from time import time\n",
        "\n",
        "import os\n",
        "import csv\n",
        "import math\n",
        "import random\n",
        "import operator\n",
        "import pdb\n",
        "import matplotlib\n",
        "import matplotlib.image as mpimg\n",
        "import pandas as pd\n",
        "\n",
        "import numpy as np\n",
        "import matplotlib.pyplot as plt\n",
        "\n",
        "import torch\n",
        "import torch.nn as nn\n",
        "import torch.nn.functional as F\n",
        "from torch.utils.data import Dataset, DataLoader\n",
        "from torchvision import models\n",
        "from torchvision import transforms\n",
        "\n",
        "import matplotlib.pyplot as plt\n",
        "from sklearn.model_selection import train_test_split\n",
        "from sklearn.metrics import confusion_matrix, precision_score, recall_score, accuracy_score, f1_score\n",
        "from time import time\n",
        "\n",
        "torch.manual_seed(6)\n",
        "torch.cuda.manual_seed(6)\n",
        "np.random.seed(6)\n",
        "\n",
        "# You could add your own libraries form Python Standard Library in this cell. Any other external libraries are not allowed."
      ],
      "execution_count": null,
      "outputs": [
        {
          "output_type": "stream",
          "text": [
            "Mounted at /content/drive\n",
            "breast_cancer.csv  q2_dataset\n"
          ],
          "name": "stdout"
        }
      ]
    },
    {
      "cell_type": "markdown",
      "metadata": {
        "id": "Kkd-WIVwTQsn"
      },
      "source": [
        "### Data Loader [5 pts.]"
      ]
    },
    {
      "cell_type": "markdown",
      "metadata": {
        "id": "SjmkpzLCt-CO"
      },
      "source": [
        "An important part of such a task is to implement your own data loader. In this part, you will implement the <b>FashionMNISTDataset</b> class, which inherits from the Dataset class in PyTorch library. This class partially provided to you below.  You need to complete the code below to create your custom <b>FashionMNISTDataset</b> class which will be able to load your dataset. Implement the functions whose prototypes are given. Follow the TODO notes below. You have to divide the development set into <b>training (80%)</b> and <b>validation (20%)</b> sets.  These non-overlapping splits and the test split as well as the list stored at the \"label2name\" field of the dataset dictionary should be retrieved using the <b>create_dataset</b> function. You should create instances of FashionMNISTDataset for each split.  Since this data loader will be called to get the input for different models, your function should work in a least two modes:\n",
        "1. To be compatible with MLP, you need to flatten the images.\n",
        "<br>\n",
        "2. To be compatible with CNN, you need to resize the image to 1x28x28. Note that, you **should not** flatten the image in this mode.\n",
        "\n",
        "Hint 1: The dataset is not normalized and your results will heavily depend on your input."
      ]
    },
    {
      "cell_type": "code",
      "metadata": {
        "id": "c2Sz0lImMr5P"
      },
      "source": [
        "#Change your root path accordingly\n",
        "root = '/content/drive/MyDrive/ML_HW3'\n",
        "q2_dataset_path = os.path.join(root, 'q2_dataset')"
      ],
      "execution_count": null,
      "outputs": []
    },
    {
      "cell_type": "code",
      "metadata": {
        "id": "x9fac_LpYdXE"
      },
      "source": [
        "class FashionMNISTDataset(Dataset):\n",
        "  # TODO:\n",
        "  \"\"\"Define constructor for FashionMNISTDataset class\n",
        "  HINT: You can pass processed data samples and their ground truth values as parameters\"\"\"\n",
        "  def __init__(self, data, labels=None, transforms=None): # you are free to change parameters\n",
        "    self.X = data\n",
        "    self.Y = labels\n",
        "    self.transforms = transforms\n",
        " \n",
        "  '''This function should return sample count in the dataset'''\n",
        "  def __len__(self):\n",
        "    return len(self.X)\n",
        " \n",
        "  '''This function should return a sample and its ground truth value from the dataset corresponding to index parameter '''\n",
        "  def __getitem__(self, index):\n",
        "    data = self.X[index, :]    \n",
        "    \n",
        "    if self.transforms:\n",
        "        data = self.transforms(data)\n",
        "        \n",
        "    if self.Y is not None:\n",
        "        return (data, self.Y[index])\n",
        "    else:\n",
        "        return data"
      ],
      "execution_count": null,
      "outputs": []
    },
    {
      "cell_type": "code",
      "metadata": {
        "id": "vE3b0p2IWrdo"
      },
      "source": [
        "def create_dataset(path_to_dataset_file, mode):\n",
        "  # TODO: \n",
        "  # Read dataset files using pickle library\n",
        "  # Construct training, validation and test sets and return them\n",
        "  with open(path_to_dataset_file, 'rb') as file_to_read:\n",
        "    loaded_dictionary = pickle.load(file_to_read, encoding='bytes')\n",
        "\n",
        "  label2name = loaded_dictionary['label2name']\n",
        "  X_train_dataset, X_vald_dataset, y_train_dataset, y_vald_dataset = train_test_split(loaded_dictionary['development_X'], loaded_dictionary['development_y'], test_size=0.2) \n",
        "  test_dataset = loaded_dictionary['test_X']\n",
        "  test_labels = loaded_dictionary['test_y']\n",
        "\n",
        "  if mode=='MLP':\n",
        "    X_train_dataset.flatten()\n",
        "    X_vald_dataset.flatten()\n",
        "    test_dataset.flatten()\n",
        "  if mode=='CNN':\n",
        "    # converting training images into torch format\n",
        "    X_train_dataset = X_train_dataset.reshape(24000, 1, 28, 28)\n",
        "    X_train_dataset  = torch.from_numpy(X_train_dataset)\n",
        "\n",
        "    # converting the target into torch format\n",
        "    y_train_dataset = y_train_dataset.astype('int');\n",
        "    y_train_dataset = torch.from_numpy(y_train_dataset)\n",
        "\n",
        "    # converting validation images into torch format\n",
        "    X_vald_dataset = X_vald_dataset.reshape(6000, 1, 28, 28)\n",
        "    X_vald_dataset  = torch.from_numpy(X_vald_dataset)\n",
        "\n",
        "    # converting the target into torch format\n",
        "    y_vald_dataset = y_vald_dataset.astype('int');\n",
        "    y_vald_dataset = torch.from_numpy(y_vald_dataset)\n",
        "\n",
        "    \n",
        "    # converting test images into torch format\n",
        "    test_dataset = test_dataset.reshape(10000, 1, 28, 28)\n",
        "    test_dataset  = torch.from_numpy(test_dataset)\n",
        "\n",
        "    # converting the target into torch format\n",
        "    test_labels = test_labels.astype('int');\n",
        "    test_labels = torch.from_numpy(test_labels)\n",
        "\n",
        "  return X_train_dataset, X_vald_dataset, y_train_dataset, y_vald_dataset, test_dataset, label2name, test_labels"
      ],
      "execution_count": null,
      "outputs": []
    },
    {
      "cell_type": "markdown",
      "metadata": {
        "id": "iz1yad18Yo7m"
      },
      "source": [
        "### Model Implementation [15 pts.]"
      ]
    },
    {
      "cell_type": "markdown",
      "metadata": {
        "id": "xhv_2w2oZVcL"
      },
      "source": [
        "#### Multi Layer Perceptron (MLP) [5 pts.]\n",
        "Now, implement your three layer neural network (i.e. one input and two hidden layers). MLP class, whose template is given below, will represent your neural network. First and second hidden layers will have 256 and 64 neurons, respectively. You will decide on the number of input and output neurons. Use ReLU as your hidden layer activation function. You need to pick a proper activation function for the output layer and a proper weight initialization scheme for fully-connected layers."
      ]
    },
    {
      "cell_type": "code",
      "metadata": {
        "id": "kLbnCwuvYy1N"
      },
      "source": [
        "class MLP(nn.Module):\n",
        "    '''Define your neural network'''\n",
        "    def __init__(self, **kwargs): # you can add any additional parameters you want \n",
        "    # TODO:\n",
        "    # You should create your neural network here\n",
        "      super(MLP, self).__init__()\n",
        "\n",
        "      self.fc1 = nn.Linear(28*28, 256)\n",
        "      # linear layer (n_hidden -> hidden_2)\n",
        "      self.fc2 = nn.Linear(256, 64)\n",
        "      # linear layer (n_hidden -> 10)\n",
        "      self.fc3 = nn.Linear(64, 10)\n",
        "      nn.init.kaiming_uniform_(self.fc1.weight)\n",
        "      nn.init.kaiming_uniform_(self.fc2.weight)\n",
        "      nn.init.kaiming_uniform_(self.fc3.weight)\n",
        "\n",
        "    def forward(self, X): # you can add any additional parameters you want\n",
        "    # TODO:\n",
        "    # Forward pass implementation should be here\n",
        "      X = torch.flatten(X, 1) # flatten all dimensions except the batch dimension\n",
        "      X = F.relu(self.fc1(X))\n",
        "      X = F.relu(self.fc2(X))\n",
        "      X = F.relu(self.fc3(X))\n",
        "      return X"
      ],
      "execution_count": null,
      "outputs": []
    },
    {
      "cell_type": "markdown",
      "metadata": {
        "id": "wFVQay-2Z7Ix"
      },
      "source": [
        "#### Convolutional Neural Network (CNN) [10 pts]\n",
        "\n",
        "Now implement your convolutional neural network. CNN class, whose template is given below, will represent your convolutional neural network. Your network will have several convolutional layers followed by a fully-connected classification layer. This model utilizes batch normalization which helps to  stabilize the learning process and dramatically reduces the number of training epochs required to train deep networks. You need to choose appropriate input and output neuron sizes, and  activation functions for the fully-connected layers. The architecture can be summarised as follows:\n",
        "<ul>\n",
        "  <li> 64 filters with size of 2 x 2 with stride 1 and zero padding to both sides, ReLU </li>\n",
        "  <li> 2 x 2 max pool. </li>\n",
        "  <li> 128 filters with size of 2 x 2 with stride 1 and zero padding to both sides, Batch Normalization, ReLU </li>\n",
        "  <li> 2 x 2 max pool. </li>\n",
        "  <li> Fully-connected layer </li>\n",
        "</ul>\n",
        "\n"
      ]
    },
    {
      "cell_type": "code",
      "metadata": {
        "id": "lNnoeEy-aGA3"
      },
      "source": [
        "class CNN(nn.Module):\n",
        "    '''Define your neural network'''\n",
        "    def __init__(self, **kwargs): # you can add any additional parameters you want \n",
        "    # TODO:\n",
        "    # You should create your neural network here\n",
        "      super(CNN, self).__init__()\n",
        "\n",
        "    #CNN Layers\n",
        "      # self.layers = nn.Sequential(\n",
        "      #   #Layer 1\n",
        "      #   nn.Conv2d(in_channels=1, out_channels=64, kernel_size=(2,2), stride=1),\n",
        "      #   nn.ReLU(),\n",
        "      #   nn.MaxPool2d(kernel_size=(2,2)),\n",
        "      #   #Layer 2\n",
        "      #   nn.Conv2d(in_channels=64, out_channels=128, kernel_size=(2,2), stride=1),\n",
        "      #   nn.BatchNorm2d(128),\n",
        "      #   nn.MaxPool2d(kernel_size=(2,2)), \n",
        "      #   nn.ReLU()\n",
        "      # )\n",
        "      # self.fc_layer = nn.Sequential(\n",
        "      #     nn.Linear(28*28*128,10),\n",
        "      #     nn.ReLU()\n",
        "      # )\n",
        "      self.conv1 = nn.Conv2d(in_channels=1, out_channels=64, kernel_size=(2,2), stride=1)\n",
        "      self.conv2 = nn.Conv2d(in_channels=64, out_channels=128, kernel_size=(2,2), stride=1)\n",
        "      self.conv2_bn = nn.BatchNorm2d(128)\n",
        "      self.maxp = nn.MaxPool2d(2)\n",
        "      self.fc = nn.Linear(4608,10)\n",
        "      self.relu = nn.ReLU(inplace=True)\n",
        "\n",
        "    def forward(self, x): # you can add any additional parameters you want\n",
        "    # TODO:\n",
        "    # Forward propagation implementation should be here\n",
        "      # X = self.layers(X)\n",
        "      # X = X.view( X.size(0), -1)\n",
        "      # X = self.fc_layer\n",
        "      x = self.conv1(x)\n",
        "      #print(x.shape)\n",
        "      x = F.relu(x)\n",
        "      #print(x.shape)\n",
        "      x = F.max_pool2d(x, 2)\n",
        "      #print(x.shape)\n",
        "      x = self.conv2(x)\n",
        "      #print(x.shape)\n",
        "      x = self.conv2_bn(x)\n",
        "      #print(x.shape)\n",
        "      x = F.relu(x)\n",
        "      #print(x.shape)\n",
        "      x = F.max_pool2d(x,2)\n",
        "      #print(x.shape)\n",
        "      x = torch.flatten(x, 1)\n",
        "      #print('After flatten', x.shape)\n",
        "      x = self.fc(x)\n",
        "      #print('FC layer: ',x.shape)\n",
        "      x = F.relu(x)\n",
        "      #print(x.shape)\n",
        "      output = F.log_softmax(x, dim=1)\n",
        "      #print(output.shape)\n",
        "      return output"
      ],
      "execution_count": null,
      "outputs": []
    },
    {
      "cell_type": "markdown",
      "metadata": {
        "id": "s4HT9fvm_jgX"
      },
      "source": [
        "  ### Model Training [20 pts.]"
      ]
    },
    {
      "cell_type": "markdown",
      "metadata": {
        "id": "o63kDDoXtzbV"
      },
      "source": [
        "Train both models for 50 epochs with properly processes inputs (i.e. call create_dataset function in mode \"mlp\" for MLP model and mode \"cnn\" for CNN model). Experiment with several optimizers including Stochastic Gradient Descent(SGD), SGD with momentum and Adam. Tune your learning rate. Save your best models (i.e. MLP and CNN models with highest performance) as \"best_mlp.pth\" and \"best_cnn.pth\", respectively. You may use any performance metric to compare performance of the models. However, you must explain your reasoning behind selected optimizer and model. During training you are expected to plot two properly formatted figures per model:\n",
        "<ol>\n",
        "<li>Training and validation losses vs. epochs</li>\n",
        "<li>Accuracy calculated on training and validation sets vs. epoch. \n",
        "</ol>\n",
        "\n",
        "Hint 1: Training the models on CPU should not take days. You are encouraged to train the models on GPU (Runtime > Change Runtime Type). \n",
        "Hint 2: Select batch size mindfully in order to train the models in a reasonable time.\n"
      ]
    },
    {
      "cell_type": "markdown",
      "metadata": {
        "id": "JnvgLkM5sfGf"
      },
      "source": [
        "#### Train MLP [8 pts]"
      ]
    },
    {
      "cell_type": "code",
      "metadata": {
        "colab": {
          "base_uri": "https://localhost:8080/",
          "height": 530
        },
        "id": "28Zs63u-CQn9",
        "outputId": "b22aa86b-d3f1-45db-cbd3-47d75262e66c"
      },
      "source": [
        "# HINT: note that your training time should not take many days. You may consider training on GPU.\n",
        " \n",
        "# TODO:\n",
        "# Pick your hyper parameters\n",
        "max_epoch = 50\n",
        "train_batch = 32\n",
        "test_batch = 32\n",
        "learning_rate = 0.001\n",
        " \n",
        "use_gpu = torch.cuda.is_available()\n",
        " \n",
        "#We Transform for Normalizations\n",
        "transform = transforms.Compose([transforms.ToTensor(),transforms.Normalize((0.5,), (0.5,))])\n",
        " \n",
        "X_train_dataset, X_vald_dataset, y_train_dataset, y_vald_dataset, test_x, label2name, test_y = create_dataset( q2_dataset_path, 'MLP')\n",
        "# Create train dataset loader\n",
        "train_dataset = FashionMNISTDataset(X_train_dataset, y_train_dataset, transforms=transform)\n",
        "train_loader = DataLoader(train_dataset, batch_size=train_batch)\n",
        " \n",
        "# Create validation dataset loader\n",
        "vald_dataset = FashionMNISTDataset(X_vald_dataset, y_vald_dataset, transforms=transform)\n",
        "vald_loader = DataLoader(vald_dataset, batch_size=train_batch)\n",
        " \n",
        "# Create test dataset loader\n",
        "test_dataset = FashionMNISTDataset(test_x, test_y, transforms=transform)\n",
        "test_loader = DataLoader(test_dataset, batch_size=test_batch)\n",
        " \n",
        "# initialize your network\n",
        "model = MLP()\n",
        " \n",
        "if use_gpu:\n",
        "  model.cuda()\n",
        " \n",
        "# define loss function\n",
        "criterion = nn.CrossEntropyLoss()\n",
        "# define optimizer\n",
        "optimizer = torch.optim.SGD(model.parameters(), lr=learning_rate, momentum=0.9, weight_decay=1e-4)\n",
        "    \n",
        "# start training\n",
        "# for each epoch calculate validation performance\n",
        "# save best model according to validation performance\n",
        "lLoss = 0\n",
        "FinalLossTrain=[]\n",
        "FinalLossValid=[]\n",
        "FinalAccTrain=[]\n",
        "FinalAccValid=[]\n",
        "check_for = 0\n",
        "for epoch in range(max_epoch):\n",
        "  ###############################################333\n",
        "  model=model.train()\n",
        "  j=0\n",
        "  lossesList = np.zeros(train_dataset.__len__())\n",
        "  preds=[]\n",
        "  actuals = []\n",
        "  for index, (data, labels) in enumerate(train_loader):\n",
        "    if use_gpu:\n",
        "      data = data.cuda()\n",
        "      labels = labels.cuda()\n",
        "    optimizer.zero_grad()\n",
        "    y_pred = model(data)\n",
        "    predicted = np.array((y_pred).cpu().detach())\n",
        "    for x in predicted:\n",
        "      preds.append(np.argmax(x))\n",
        " \n",
        "    #one_hot = torch.nn.functional.one_hot(labels.to(torch.int64),10)\n",
        "    #print(y_pred.is_cuda)\n",
        "    #print(one_hot.to(torch.float).is_cuda)\n",
        " \n",
        "    #loss  = criterion(y_pred, one_hot.to(torch.float))\n",
        "    loss  = criterion(y_pred, labels)\n",
        "    \n",
        "    loss.backward()\n",
        "    optimizer.step()\n",
        "    \n",
        "    actual = np.array(labels[:].unsqueeze(1).cpu().detach())\n",
        "    \n",
        "    what = 0\n",
        "    nope = 0\n",
        "    for _ in actual:     \n",
        "      if actual[what] == np.argmax(predicted[what]):\n",
        "        nope += 1\n",
        "      what += 1\n",
        "    accuracies = nope/what\n",
        "    losses = np.mean(np.array(loss.cpu().detach()))\n",
        "    \n",
        "    \n",
        "    for x in actual:\n",
        "      actuals.append(x)\n",
        "    \n",
        "    #lossesList[j*train_batch:(j+1)*train_batch] = (np.array(criterion(y_pred, labels.unsqueeze(1)).cpu().detach()))\n",
        "    lossesList[j*train_batch:(j+1)*train_batch] = losses\n",
        "    \n",
        "    j=j+1 \n",
        " \n",
        "  what = 0\n",
        "  nope = 0\n",
        "  #print(lossesList)\n",
        "  for _ in actuals:\n",
        "    if actuals[what][0] == preds[what]:\n",
        "      nope += 1\n",
        "    what += 1\n",
        "  acc = nope/what\n",
        " \n",
        "  #print(\"iteration end: \", check_for,\" acc: \", acc*100)\n",
        "  ########################################################\n",
        "#    iterate over training batches\n",
        "#    ...\n",
        " \n",
        "#    Validation\n",
        "  model = model.eval()\n",
        "  criterions = nn.MSELoss()\n",
        "  lossesListV = np.zeros(vald_dataset.__len__())\n",
        "  predictedsV=[]\n",
        "  actualsV = []\n",
        "  j=0\n",
        "  with torch.no_grad():\n",
        "    for index, (data, labels) in enumerate(vald_loader):\n",
        "      #print(data.is_cuda)\n",
        "      #print(labels.is_cuda)\n",
        "      if use_gpu:\n",
        "        data = data.cuda()\n",
        "        labels = labels.cuda()\n",
        "      #print(labels)\n",
        "      y_pred = (model(data))\n",
        "      predicted =np.array((y_pred).cpu().detach())\n",
        "      actual = np.array(labels[:].unsqueeze(1).cpu().detach())\n",
        "      for x in predicted:\n",
        "        predictedsV.append(np.argmax(x))\n",
        "      for x in actual:\n",
        "        actualsV.append(x)\n",
        "      \n",
        "      #one_hotV = torch.nn.functional.one_hot(labels.to(torch.int64),10)\n",
        "      #lossV  = criterion(y_pred, one_hotV.to(torch.float))\n",
        "      lossV = criterion(y_pred, labels)\n",
        "      lossesV = np.mean(np.array(lossV.cpu().detach()))\n",
        "      lossesListV[j*train_batch:(j+1)*train_batch] = lossesV\n",
        "      j=j+1   \n",
        "      what = 0\n",
        "      nope = 0\n",
        "      \n",
        "      for _ in actual:\n",
        "        if actual[what] == np.argmax(predicted[what]):\n",
        "          nope += 1\n",
        "        what += 1\n",
        "      accuracies = nope/what\n",
        "    \n",
        "    what = 0\n",
        "    nope = 0\n",
        "    \n",
        "    for _ in actualsV:\n",
        "      if actualsV[what][0] == predictedsV[what]:\n",
        "        nope += 1\n",
        "      what += 1\n",
        "    accV = nope/what\n",
        "    \n",
        " \n",
        "  FinalLossTrain.append(np.mean(lossesList)*100)\n",
        "  FinalLossValid.append(np.mean(lossesListV)*100)\n",
        "  FinalAccTrain.append(acc)\n",
        "  FinalAccValid.append(accV)\n",
        "#     iterate over validation batches\n",
        "  if accV > lLoss:\n",
        "    torch.save(model, 'best_mlp.pth')\n",
        "    lLoss = accV\n",
        " \n",
        "  \n",
        "  #print(\"iteration end: \", check_for,\" accV: \", accV*100)\n",
        "  check_for += 1\n",
        "# plot losses vs epoch \n",
        "# ...\n",
        "# plt.show()\n",
        "plt.figure()\n",
        "plt.plot(FinalLossTrain, label='train loss')\n",
        "plt.plot(FinalLossValid, label='validation loss')\n",
        "plt.legend(loc=\"upper left\")\n",
        "#print(FinalLossTrain)\n",
        "#print(FinalLossValid)\n",
        "# plot accuracies vs epoch\n",
        "# ...\n",
        "# plt.show()\n",
        "plt.figure()\n",
        "plt.plot(FinalAccTrain, label='train acc')\n",
        "plt.plot(FinalAccValid, label='validation acc')\n",
        "plt.legend(loc=\"upper left\")"
      ],
      "execution_count": null,
      "outputs": [
        {
          "output_type": "execute_result",
          "data": {
            "text/plain": [
              "<matplotlib.legend.Legend at 0x7fb150935f10>"
            ]
          },
          "metadata": {
            "tags": []
          },
          "execution_count": 44
        },
        {
          "output_type": "display_data",
          "data": {
            "image/png": "[encoded data removed]",
            "text/plain": [
              "<Figure size 432x288 with 1 Axes>"
            ]
          },
          "metadata": {
            "tags": [],
            "needs_background": "light"
          }
        },
        {
          "output_type": "display_data",
          "data": {
            "image/png": "[encoded data removed]",
            "text/plain": [
              "<Figure size 432x288 with 1 Axes>"
            ]
          },
          "metadata": {
            "tags": [],
            "needs_background": "light"
          }
        }
      ]
    },
    {
      "cell_type": "markdown",
      "metadata": {
        "id": "e9wwVYbf7bzg"
      },
      "source": [
        "#### Train CNN [12 pts]"
      ]
    },
    {
      "cell_type": "code",
      "metadata": {
        "id": "MFQxDL8AtMwn",
        "colab": {
          "base_uri": "https://localhost:8080/",
          "height": 530
        },
        "outputId": "12fbe816-446d-41b1-81f4-4c250b564d4f"
      },
      "source": [
        "# HINT: note that your training time should not take many days. You may consider training on GPU.\n",
        " \n",
        "# TODO:\n",
        "# Pick your hyper parameters\n",
        "max_epoch = 50\n",
        "train_batch = 32\n",
        "test_batch = 32\n",
        "learning_rate = 0.003\n",
        " \n",
        "use_gpu = torch.cuda.is_available()\n",
        " \n",
        "X_train_dataset, X_vald_dataset, y_train_dataset, y_vald_dataset, test_x, label2name, test_y = create_dataset( q2_dataset_path, 'CNN')\n",
        "# Create train dataset loader\n",
        "train_dataset = FashionMNISTDataset(X_train_dataset, y_train_dataset)\n",
        "train_loader = DataLoader(train_dataset, batch_size=train_batch, shuffle=True)\n",
        " \n",
        "# Create validation dataset loader\n",
        "vald_dataset = FashionMNISTDataset(X_vald_dataset, y_vald_dataset)\n",
        "vald_loader = DataLoader(vald_dataset, batch_size=train_batch)\n",
        " \n",
        "# Create test dataset loader\n",
        "test_dataset = FashionMNISTDataset(test_x, test_y)\n",
        "test_loader = DataLoader(test_dataset, batch_size=test_batch)\n",
        " \n",
        "# initialize your network\n",
        "model = CNN()\n",
        " \n",
        "if use_gpu:\n",
        "  model.cuda()\n",
        "\n",
        "# define loss function\n",
        "criterion = nn.CrossEntropyLoss()\n",
        "# define optimizer\n",
        "optimizer = torch.optim.SGD(model.parameters(), lr=learning_rate)\n",
        "    \n",
        "# start training\n",
        "# for each epoch calculate validation performance\n",
        "# save best model according to validation performance\n",
        "lLoss = 0\n",
        "FinalLossTrain=[]\n",
        "FinalLossValid=[]\n",
        "FinalAccTrain=[]\n",
        "FinalAccValid=[]\n",
        "check_for = 0\n",
        "for epoch in range(max_epoch):\n",
        "  ###############################################333\n",
        "  model=model.train()\n",
        "  j=0\n",
        "  lossesList = np.zeros(train_dataset.__len__())\n",
        "  preds=[]\n",
        "  actuals = []\n",
        "  for index, (data, labels) in enumerate(train_loader):\n",
        "    if use_gpu:\n",
        "      data = data.cuda()\n",
        "      labels = labels.cuda()\n",
        "    optimizer.zero_grad()\n",
        "    y_pred = model(data.float())\n",
        "    predicted = np.array((y_pred).cpu().detach())\n",
        "    for x in predicted:\n",
        "      preds.append(np.argmax(x))\n",
        " \n",
        "    #one_hot = torch.nn.functional.one_hot(labels.to(torch.int64),10)\n",
        "    #print(y_pred.is_cuda)\n",
        "    #print(one_hot.to(torch.float).is_cuda)\n",
        " \n",
        "   # loss  = criterion(y_pred, one_hot.to(torch.float))\n",
        "    loss  = criterion(y_pred, labels)\n",
        "    \n",
        "    loss.backward()\n",
        "    optimizer.step()\n",
        "    \n",
        "    actual = np.array(labels[:].unsqueeze(1).cpu().detach())\n",
        "    \n",
        "    what = 0\n",
        "    nope = 0\n",
        "    for _ in actual:     \n",
        "      if actual[what] == np.argmax(predicted[what]):\n",
        "        nope += 1\n",
        "      what += 1\n",
        "    accuracies = nope/what\n",
        "    losses = np.mean(np.array(loss.cpu().detach()))\n",
        "    \n",
        "    \n",
        "    for x in actual:\n",
        "      actuals.append(x)\n",
        "    \n",
        "    lossesList[j*train_batch:(j+1)*train_batch] = losses\n",
        "    \n",
        "    j=j+1 \n",
        " \n",
        "  what = 0\n",
        "  nope = 0\n",
        "  #print(lossesList)\n",
        "  for _ in actuals:\n",
        "    if actuals[what][0] == preds[what]:\n",
        "      nope += 1\n",
        "    what += 1\n",
        "  acc = nope/what\n",
        " \n",
        "  #print(\"iteration end: \", check_for,\" acc: \", acc*100)\n",
        "  ########################################################\n",
        "#    iterate over training batches\n",
        "#    ...\n",
        " \n",
        "#    Validation\n",
        "  model = model.eval()\n",
        "  criterions = nn.CrossEntropyLoss()\n",
        "  lossesListV = np.zeros(vald_dataset.__len__())\n",
        "  predictedsV=[]\n",
        "  actualsV = []\n",
        "  j=0\n",
        "  with torch.no_grad():\n",
        "    for index, (data, labels) in enumerate(vald_loader):\n",
        "      #print(data.is_cuda)\n",
        "      #print(labels.is_cuda)\n",
        "      if use_gpu:\n",
        "        data = data.cuda()\n",
        "        labels = labels.cuda()\n",
        "      #print(labels)\n",
        "      y_pred = (model(data.float()))\n",
        "      predicted =np.array((y_pred).cpu().detach())\n",
        "      actual = np.array(labels[:].unsqueeze(1).cpu().detach())\n",
        "      for x in predicted:\n",
        "        predictedsV.append(np.argmax(x))\n",
        "      for x in actual:\n",
        "        actualsV.append(x)\n",
        "      \n",
        "      #one_hotV = torch.nn.functional.one_hot(labels.to(torch.int64),10)\n",
        "      #lossV  = criterion(y_pred, one_hotV.to(torch.float))\n",
        "      lossV = criterion(y_pred, labels)\n",
        "      lossesV = np.mean(np.array(lossV.cpu().detach()))\n",
        "      lossesListV[j*train_batch:(j+1)*train_batch] = lossesV\n",
        "      j=j+1   \n",
        "      what = 0\n",
        "      nope = 0\n",
        "      \n",
        "      for _ in actual:\n",
        "        if actual[what] == np.argmax(predicted[what]):\n",
        "          nope += 1\n",
        "        what += 1\n",
        "      accuracies = nope/what\n",
        "    \n",
        "    what = 0\n",
        "    nope = 0\n",
        "    \n",
        "    for _ in actualsV:\n",
        "      if actualsV[what][0] == predictedsV[what]:\n",
        "        nope += 1\n",
        "      what += 1\n",
        "    accV = nope/what\n",
        "    \n",
        " \n",
        "  FinalLossTrain.append(np.mean(lossesList)*100)\n",
        "  FinalLossValid.append(np.mean(lossesListV)*100)\n",
        "  FinalAccTrain.append(acc)\n",
        "  FinalAccValid.append(accV)\n",
        "#     iterate over validation batches\n",
        "  if accV > lLoss:\n",
        "    torch.save(model, 'best_cnn.pth')\n",
        "    lLoss = accV\n",
        " \n",
        "  \n",
        "  #print(\"iteration end: \", check_for,\" accV: \", accV*100)\n",
        "  check_for += 1\n",
        "# plot losses vs epoch \n",
        "# ...\n",
        "# plt.show()\n",
        "plt.figure()\n",
        "plt.plot(FinalLossTrain, label='train loss')\n",
        "plt.plot(FinalLossValid, label='validation loss')\n",
        "plt.legend(loc=\"upper left\")\n",
        "#print(FinalLossTrain)\n",
        "#print(FinalLossValid)\n",
        "# plot accuracies vs epoch\n",
        "# ...\n",
        "# plt.show()\n",
        "plt.figure()\n",
        "plt.plot(FinalAccTrain, label='train acc')\n",
        "plt.plot(FinalAccValid, label='validation acc')\n",
        "plt.legend(loc=\"upper left\")"
      ],
      "execution_count": 48,
      "outputs": [
        {
          "output_type": "execute_result",
          "data": {
            "text/plain": [
              "<matplotlib.legend.Legend at 0x7fb1509b2f10>"
            ]
          },
          "metadata": {
            "tags": []
          },
          "execution_count": 48
        },
        {
          "output_type": "display_data",
          "data": {
            "image/png": "[encoded data removed]",
            "text/plain": [
              "<Figure size 432x288 with 1 Axes>"
            ]
          },
          "metadata": {
            "tags": [],
            "needs_background": "light"
          }
        },
        {
          "output_type": "display_data",
          "data": {
            "image/png": "[encoded data removed]",
            "text/plain": [
              "<Figure size 432x288 with 1 Axes>"
            ]
          },
          "metadata": {
            "tags": [],
            "needs_background": "light"
          }
        }
      ]
    },
    {
      "cell_type": "markdown",
      "metadata": {
        "id": "Bisc7q7itfPe"
      },
      "source": [
        "### Model Testing [10 pts]"
      ]
    },
    {
      "cell_type": "markdown",
      "metadata": {
        "id": "SH1ddjfw06pn"
      },
      "source": [
        "Report the following for your best model on your test set which has not been seen by the model yet.\n",
        "1. A heatmap for confusion matrix\n",
        "2. Accuracy\n",
        "3. Accuracy for each class\n",
        "4. Macro Precision\n",
        "5. Macro Recall\n",
        "6. Macro F1 Score\n",
        "\n",
        "You may plot the heatmap for the confusion matrix using <b>plot_cm</b> function provided below. \n",
        "\n"
      ]
    },
    {
      "cell_type": "code",
      "metadata": {
        "id": "rYv0LlpSQ-Dx"
      },
      "source": [
        "def plot_cm(cm, class_labels):\n",
        "    fig, ax = plt.subplots()\n",
        "    im = ax.imshow(cm, interpolation='nearest', cmap=plt.cm.Blues)\n",
        "    ax.figure.colorbar(im, ax=ax)\n",
        "    ax.set(xticks=range(len(class_labels)),\n",
        "           yticks=range(len(class_labels)),\n",
        "           xticklabels=class_labels, yticklabels=class_labels,\n",
        "           title=\"Confusion Matrix\",\n",
        "           ylabel='True label',\n",
        "           xlabel='Predicted label')\n",
        "    plt.setp(ax.get_xticklabels(), rotation=45, ha=\"right\",\n",
        "             rotation_mode=\"anchor\")\n",
        "    fmt = 'd'\n",
        "    thresh = cm.max() / 2.\n",
        "    for i in range(cm.shape[0]):\n",
        "        for j in range(cm.shape[1]):\n",
        "            ax.text(j, i, format(cm[i, j], fmt),\n",
        "                    ha=\"center\", va=\"center\",\n",
        "                    color=\"white\" if cm[i, j] > thresh else \"black\")\n",
        "    fig.tight_layout()\n",
        "    return ax"
      ],
      "execution_count": 49,
      "outputs": []
    },
    {
      "cell_type": "markdown",
      "metadata": {
        "id": "Oxsq8CSW6XLe"
      },
      "source": [
        "#### Test MLP [3 pts].\n"
      ]
    },
    {
      "cell_type": "code",
      "metadata": {
        "id": "Fm1n5TJa6dR3",
        "colab": {
          "base_uri": "https://localhost:8080/",
          "height": 382
        },
        "outputId": "3890b55e-685a-450a-954c-899986a81c6b"
      },
      "source": [
        "# TODO: \n",
        "# load trained model\n",
        "# test the model by iterating over test batches\n",
        "# calculate and print performance metrics\n",
        "# plot confusion matrix using class names instead of class labels\n",
        "X_train_dataset, X_vald_dataset, y_train_dataset, y_vald_dataset, test_x, label2name, test_y = create_dataset( q2_dataset_path, 'MLP')\n",
        "# Create train dataset loader\n",
        "train_dataset = FashionMNISTDataset(X_train_dataset, y_train_dataset)\n",
        "train_loader = DataLoader(train_dataset, batch_size=train_batch, shuffle=True)\n",
        " \n",
        "# Create validation dataset loader\n",
        "vald_dataset = FashionMNISTDataset(X_vald_dataset, y_vald_dataset)\n",
        "vald_loader = DataLoader(vald_dataset, batch_size=train_batch)\n",
        " \n",
        "# Create test dataset loader\n",
        "test_dataset = FashionMNISTDataset(test_x, test_y)\n",
        "test_loader = DataLoader(test_dataset, batch_size=test_batch)\n",
        "\n",
        "\n",
        "best_path = \"best_mlp.pth\"\n",
        "model = torch.load(best_path)\n",
        "use_gpu = torch.cuda.is_available()\n",
        "\n",
        "\n",
        "# evaluate on test set\n",
        "model = model.eval()\n",
        "if use_gpu:\n",
        "  model.cuda()\n",
        "\n",
        "criterions = nn.CrossEntropyLoss()\n",
        "lossezZ = np.zeros(test_dataset.__len__())\n",
        "predictedsZ=[]\n",
        "actualsZ = []\n",
        "j=0\n",
        "with torch.no_grad():\n",
        "  for _ , (data, labels) in enumerate(test_loader):\n",
        "    if use_gpu:\n",
        "      data = data.cuda()\n",
        "      labels = labels.cuda()\n",
        "    #print(labels)\n",
        "    y_pred = (model(data.float()))\n",
        "    predicted =np.array((y_pred).cpu().detach())\n",
        "    actual = np.array(labels[:].unsqueeze(1).cpu().detach())\n",
        "    for x in predicted:\n",
        "      predictedsZ.append(np.argmax(x))\n",
        "    for x in actual:\n",
        "      actualsZ.append(x)\n",
        "    \n",
        "    #lossezZ.append(np.array(criterions(y_pred, labels.unsqueeze(1)).cpu().detach()))\n",
        "    #one_hotZ = torch.nn.functional.one_hot(labels.to(torch.int64),10)\n",
        "    #lossZ  = criterion(y_pred, one_hotZ.to(torch.float))\n",
        "    lossZ = criterion(y_pred, labels)\n",
        "    lossesZ = np.mean(np.array(lossZ.cpu().detach()))\n",
        "    lossezZ[j*train_batch:(j+1)*train_batch] = lossesZ\n",
        "    j=j+1   \n",
        "    what = 0\n",
        "    nope = 0\n",
        "    \n",
        "    for _ in actual:\n",
        "      if actual[what] == np.argmax(predicted[what]):\n",
        "        nope += 1\n",
        "      what += 1\n",
        "    accuracies = nope/what\n",
        "  \n",
        "  what = 0\n",
        "  nope = 0\n",
        "  \n",
        "  for _ in actualsZ:\n",
        "    if actualsZ[what][0] == predictedsZ[what]:\n",
        "      nope += 1\n",
        "    what += 1\n",
        "  accZ = nope/what\n",
        "\n",
        "  \n",
        "  conf_matrix = (confusion_matrix(actualsZ, predictedsZ))\n",
        "  acc = accuracy_score(actualsZ, predictedsZ) *100\n",
        "  pre = precision_score(actualsZ, predictedsZ,average='macro') *100\n",
        "  recall = recall_score(actualsZ, predictedsZ,average='macro') *100\n",
        "  f1 = f1_score(actualsZ, predictedsZ,average='macro') *100\n",
        "  lossesd = np.mean(lossezZ)\n",
        "  #print(metrics.classification_report(actualsZ, predictedsZ, digits=3))\n",
        "  # print(\"confusion matrix: \",dd)\n",
        "  # print(\"f1 score: \",f1_score(actualsZ, predictedsZ,average='macro') *100) \n",
        "  # print(\"macro prescion: \",precision_score(actualsZ, predictedsZ,average='macro') *100)\n",
        "  # print(\"macro recall: \",recall_score(actualsZ, predictedsZ,average='macro') *100)\n",
        "  # print(\"accuracy: \",accuracy_score(actualsZ, predictedsZ) *100)\n",
        "  #print(\"nahi\",nahi)\n",
        "  #print(\"loader len\",val_loader.__len__())\n",
        "  #print(\"act\",actualsV)\n",
        "  #print(\"pre\",predictedsV)\n",
        "  \n",
        "#   iterate over test batches\n",
        "#   get confusion matrix\n",
        "#   calculate accuracy\n",
        "#   calculate precision\n",
        "#   calculate recall\n",
        "#   calculate F1 score\n",
        "\n",
        "# print metrics\n",
        "print(\"Mean Loss:\", lossesd, \"\\nMean Acc:\", acc,\"\\nMean Macro Precision:\", pre, \"\\nMean Macro Recall:\", recall, \"\\nMean Macro F1 Score:\", f1) \n",
        "\n",
        "# plot confusion matrix\n",
        "fig, ax = plt.subplots()\n",
        "im = ax.imshow(conf_matrix)\n",
        "# We want to show all ticks...\n",
        "ax.set_xticks(np.arange(15))\n",
        "ax.set_yticks(np.arange(15))\n",
        "\n",
        "fig.tight_layout()\n",
        "plt.show()"
      ],
      "execution_count": 50,
      "outputs": [
        {
          "output_type": "stream",
          "text": [
            "Mean Loss: 91.4390720275879 \n",
            "Mean Acc: 59.48 \n",
            "Mean Macro Precision: 67.87840572721153 \n",
            "Mean Macro Recall: 59.48 \n",
            "Mean Macro F1 Score: 57.59610131087014\n"
          ],
          "name": "stdout"
        },
        {
          "output_type": "display_data",
          "data": {
            "image/png": "[encoded data removed]",
            "text/plain": [
              "<Figure size 432x288 with 1 Axes>"
            ]
          },
          "metadata": {
            "tags": [],
            "needs_background": "light"
          }
        }
      ]
    },
    {
      "cell_type": "markdown",
      "metadata": {
        "id": "V356T_rI7jXV"
      },
      "source": [
        "#### Test CNN [7 pts]"
      ]
    },
    {
      "cell_type": "code",
      "metadata": {
        "id": "y0pHFbI-9mQf",
        "colab": {
          "base_uri": "https://localhost:8080/",
          "height": 436
        },
        "outputId": "2fb3c42f-7226-41ad-c650-091fc7ecb0da"
      },
      "source": [
        "# TODO: \n",
        "# load trained model\n",
        "# test the model by iterating over test batches\n",
        "# calculate and print performance metrics\n",
        "# plot confusion matrix using class names instead of class labels\n",
        "X_train_dataset, X_vald_dataset, y_train_dataset, y_vald_dataset, test_x, label2name, test_y = create_dataset( q2_dataset_path, 'MLP')\n",
        "# Create train dataset loader\n",
        "train_dataset = FashionMNISTDataset(X_train_dataset, y_train_dataset)\n",
        "train_loader = DataLoader(train_dataset, batch_size=train_batch, shuffle=True)\n",
        " \n",
        "# Create validation dataset loader\n",
        "vald_dataset = FashionMNISTDataset(X_vald_dataset, y_vald_dataset)\n",
        "vald_loader = DataLoader(vald_dataset, batch_size=train_batch)\n",
        " \n",
        "# Create test dataset loader\n",
        "test_dataset = FashionMNISTDataset(test_x, test_y)\n",
        "test_loader = DataLoader(test_dataset, batch_size=test_batch)\n",
        "\n",
        "\n",
        "best_path = \"best_cnn.pth\"\n",
        "model = torch.load(best_path)\n",
        "use_gpu = torch.cuda.is_available()\n",
        "\n",
        "\n",
        "# evaluate on test set\n",
        "model = model.eval()\n",
        "if use_gpu:\n",
        "  model.cuda()\n",
        "\n",
        "criterions = nn.CrossEntropyLoss()\n",
        "lossezZ = np.zeros(test_dataset.__len__())\n",
        "predictedsZ=[]\n",
        "actualsZ = []\n",
        "j=0\n",
        "with torch.no_grad():\n",
        "  for _ , (data, labels) in enumerate(test_loader):\n",
        "    if use_gpu:\n",
        "      data = data.cuda()\n",
        "      labels = labels.cuda()\n",
        "    #print(labels)\n",
        "    y_pred = (model(data.float().unsqueeze(1)))\n",
        "    predicted =np.array((y_pred).cpu().detach())\n",
        "    actual = np.array(labels[:].unsqueeze(1).cpu().detach())\n",
        "    for x in predicted:\n",
        "      predictedsZ.append(np.argmax(x))\n",
        "    for x in actual:\n",
        "      actualsZ.append(x)\n",
        "    \n",
        "    #lossezZ.append(np.array(criterions(y_pred, labels.unsqueeze(1)).cpu().detach()))\n",
        "    #one_hotZ = torch.nn.functional.one_hot(labels.to(torch.int64),10)\n",
        "    #lossZ  = criterion(y_pred, one_hotZ.to(torch.float))\n",
        "    lossZ = criterion(y_pred, labels)\n",
        "    lossesZ = np.mean(np.array(lossZ.cpu().detach()))\n",
        "    lossezZ[j*train_batch:(j+1)*train_batch] = lossesZ\n",
        "    j=j+1   \n",
        "    what = 0\n",
        "    nope = 0\n",
        "    \n",
        "    for _ in actual:\n",
        "      if actual[what] == np.argmax(predicted[what]):\n",
        "        nope += 1\n",
        "      what += 1\n",
        "    accuracies = nope/what\n",
        "  \n",
        "  what = 0\n",
        "  nope = 0\n",
        "  \n",
        "  for _ in actualsZ:\n",
        "    if actualsZ[what][0] == predictedsZ[what]:\n",
        "      nope += 1\n",
        "    what += 1\n",
        "  accZ = nope/what\n",
        "\n",
        "  \n",
        "  conf_matrix = (confusion_matrix(actualsZ, predictedsZ))\n",
        "  acc = accuracy_score(actualsZ, predictedsZ) *100\n",
        "  pre = precision_score(actualsZ, predictedsZ,average='macro') *100\n",
        "  recall = recall_score(actualsZ, predictedsZ,average='macro') *100\n",
        "  f1 = f1_score(actualsZ, predictedsZ,average='macro') *100\n",
        "  lossesd = np.mean(lossezZ)\n",
        "  #print(metrics.classification_report(actualsZ, predictedsZ, digits=3))\n",
        "  # print(\"confusion matrix: \",dd)\n",
        "  # print(\"f1 score: \",f1_score(actualsZ, predictedsZ,average='macro') *100) \n",
        "  # print(\"macro prescion: \",precision_score(actualsZ, predictedsZ,average='macro') *100)\n",
        "  # print(\"macro recall: \",recall_score(actualsZ, predictedsZ,average='macro') *100)\n",
        "  # print(\"accuracy: \",accuracy_score(actualsZ, predictedsZ) *100)\n",
        "  #print(\"nahi\",nahi)\n",
        "  #print(\"loader len\",val_loader.__len__())\n",
        "  #print(\"act\",actualsV)\n",
        "  #print(\"pre\",predictedsV)\n",
        "  \n",
        "#   iterate over test batches\n",
        "#   get confusion matrix\n",
        "#   calculate accuracy\n",
        "#   calculate precision\n",
        "#   calculate recall\n",
        "#   calculate F1 score\n",
        "\n",
        "# print metrics\n",
        "print(\"Mean Loss:\", lossesd, \"\\nMean Acc:\", acc,\"\\nMean Macro Precision:\", pre, \"\\nMean Macro Recall:\", recall, \"\\nMean Macro F1 Score:\", f1) \n",
        "\n",
        "# plot confusion matrix\n",
        "fig, ax = plt.subplots()\n",
        "im = ax.imshow(conf_matrix)\n",
        "# We want to show all ticks...\n",
        "ax.set_xticks(np.arange(15))\n",
        "ax.set_yticks(np.arange(15))\n",
        "\n",
        "fig.tight_layout()\n",
        "plt.show()"
      ],
      "execution_count": null,
      "outputs": [
        {
          "output_type": "stream",
          "text": [
            "/usr/local/lib/python3.7/dist-packages/sklearn/metrics/_classification.py:1272: UndefinedMetricWarning: Precision is ill-defined and being set to 0.0 in labels with no predicted samples. Use `zero_division` parameter to control this behavior.\n",
            "  _warn_prf(average, modifier, msg_start, len(result))\n"
          ],
          "name": "stderr"
        },
        {
          "output_type": "stream",
          "text": [
            "Mean Loss: 0.5020261918067932 \n",
            "Mean Acc: 81.74 \n",
            "Mean Macro Precision: 76.56094957845322 \n",
            "Mean Macro Recall: 81.74000000000001 \n",
            "Mean Macro F1 Score: 78.46866316142899\n"
          ],
          "name": "stdout"
        },
        {
          "output_type": "display_data",
          "data": {
            "image/png": "[encoded data removed]",
            "text/plain": [
              "<Figure size 432x288 with 1 Axes>"
            ]
          },
          "metadata": {
            "tags": [],
            "needs_background": "light"
          }
        }
      ]
    },
    {
      "cell_type": "markdown",
      "metadata": {
        "id": "iR8UKIYm9T4e"
      },
      "source": [
        "### Model Comparison [20 pts]\n",
        "\n",
        "Answer the following questions. Your answers <b>must not exceed 200 words</b> in total. Provide the reasoning for your claims:\n",
        "<ul>\n",
        "<li> Discuss the figures that you have plotted in <b>Model Training</b> section\n",
        "<li> In theory, are both models suitable for processing image data? Discuss. </li>\n",
        "<li> Which model performed better on the test set? Do results support your claim for the previous question? Discuss. </li>\n",
        "<li> Which measure/metric (among the ones you considered for this question) would you prefer to assess a model trained for multi-class classification task?\n",
        "<li> Compare both models in terms of complexity.\n",
        "<li> Comment on the inter-class similarity based on your results.\n",
        "</ul>"
      ]
    },
    {
      "cell_type": "markdown",
      "metadata": {
        "id": "TX5FDWuoXxTN"
      },
      "source": [
        "In theory yes both models are suitable for processing image data, however with MLP being more complex ; the number of total parameters can grow to very high (number of perceptron in layer 1 multiplied by # of p in layer 2 multiplied by # of p in layer 3…). This is inefficient because there is redundancy in such high dimensions. Another disadvantage is that it disregards spatial information. It takes flattened vectors as inputs. Another disadvantage is that there are too many connections betwee nthe nodes forming a dense web\n"
      ]
    },
    {
      "cell_type": "markdown",
      "metadata": {
        "id": "xHkRcQ4f0PLH"
      },
      "source": [
        "The panning of filters (you can set the stride and filter size ) in CNN essentially allows parameter sharing, weight sharing so that the filter looks for a specific pattern, and is location invariant — can find the pattern anywhere in an image. This is very useful for object detection. Patterns can be discovered in more than one part of the image."
      ]
    },
    {
      "cell_type": "markdown",
      "metadata": {
        "id": "4dMhNqJK09PY"
      },
      "source": [
        "Lastly, comparing the metric of accuracy on the test sets on both the models, it can be deduced that the CNN is a far better model even though both models train to give high accuracy but CNN gives a better mean loss and accuracy metrics."
      ]
    },
    {
      "cell_type": "markdown",
      "metadata": {
        "id": "imoFOipP2QFm"
      },
      "source": [
        "## References\n",
        "1.\thttps://towardsdatascience.com/simple-guide-to-hyperparameter-tuning-in-neural-networks-3fe03dad8594\n",
        "2.\thttps://towardsdatascience.com/effect-of-gradient-descent-optimizers-on-neural-net-training-d44678d27060\n",
        "3.\thttps://medium.com/analytics-vidhya/exploring-batch-normalisation-with-pytorch-1ac25229acaf\n",
        "4.\thttps://towardsdatascience.com/convolutional-neural-network-17fb77e76c05\n"
      ]
    }
  ]
}